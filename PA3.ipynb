{
 "cells": [
  {
   "cell_type": "markdown",
   "id": "0e7f3ed6",
   "metadata": {},
   "source": [
    "# Programming Assignment 3\n",
    "## Created by Eli Dalton  -  Version 1\n",
    "## CS-150-02  -  Computer Programming for the Liberal Arts\n",
    "## Fall 2021"
   ]
  },
  {
   "cell_type": "code",
   "execution_count": 10,
   "id": "a4dd7659",
   "metadata": {},
   "outputs": [
    {
     "name": "stdout",
     "output_type": "stream",
     "text": [
      "Enter the length of side A: 12\n",
      "Enter the length of side B: 16\n",
      "Enter the length of side C: 21\n",
      "The area of the triangle is approximately 95.4512310030625 square units.\n",
      "The perimeter of the triangle is 49 units.\n"
     ]
    }
   ],
   "source": [
    "def calcArea(A = 1, B = 1, C = 1):\n",
    "    s = (A+B+C)/2\n",
    "    Area = (s*(s-A)*(s-B)*(s-C))**(1/2)\n",
    "    return Area\n",
    "\n",
    "def calcPerimeter(A = 1, B = 1, C = 1):\n",
    "    Perimeter = A + B + C\n",
    "    return Perimeter\n",
    "\n",
    "A = int(input(\"Enter the length of side A: \"))\n",
    "B = int(input(\"Enter the length of side B: \"))\n",
    "C = int(input(\"Enter the length of side C: \"))\n",
    "\n",
    "print(f\"The area of the triangle is approximately {calcArea(A,B,C)} square units.\")\n",
    "print(f\"The perimeter of the triangle is {calcPerimeter(A,B,C)} units.\")"
   ]
  },
  {
   "cell_type": "code",
   "execution_count": 6,
   "id": "55ce2013",
   "metadata": {},
   "outputs": [
    {
     "name": "stdout",
     "output_type": "stream",
     "text": [
      "Enter your guess: 100\n",
      "Too low! Guess again\n",
      "Enter your guess: 200\n",
      "Too low! Guess again\n",
      "Enter your guess: 500\n",
      "Too low! Guess again\n",
      "Enter your guess: 700\n",
      "Too low! Guess again\n",
      "Enter your guess: 800\n",
      "Too low! Guess again\n",
      "Enter your guess: 900\n",
      "Too low! Guess again\n",
      "Enter your guess: 950\n",
      "Too high! Guess again\n",
      "Enter your guess: 925\n",
      "Too high! Guess again\n",
      "Enter your guess: 920\n",
      "Too high! Guess again\n",
      "Enter your guess: 910\n",
      "Too high! Guess again\n",
      "Enter your guess: 901\n",
      "Too low! Guess again\n",
      "Enter your guess: 902\n",
      "Too low! Guess again\n",
      "Enter your guess: 903\n",
      "Too low! Guess again\n",
      "Enter your guess: 904\n",
      "Too low! Guess again\n",
      "Enter your guess: 905\n",
      "Too low! Guess again\n",
      "Enter your guess: 906\n",
      "Too low! Guess again\n",
      "Enter your guess: 907\n",
      "Too low! Guess again\n",
      "Enter your guess: 908\n",
      "Correct!\n"
     ]
    }
   ],
   "source": [
    "import random\n",
    "number = random.randint(1,1000)\n",
    "entered_number = None\n",
    "\n",
    "while entered_number != number:\n",
    "    entered_number = int(input(\"Enter your guess: \"))\n",
    "    evaluateGuess(entered_number, number)\n",
    "    \n",
    "def evaluateGuess(entered_number, number):\n",
    "    if entered_number==number:\n",
    "        print(\"Correct!\")\n",
    "    elif entered_number > number:\n",
    "        print(\"Too high! Guess again\")\n",
    "    else:\n",
    "        print(\"Too low! Guess again\")"
   ]
  },
  {
   "cell_type": "code",
   "execution_count": 12,
   "id": "3bfa2de1",
   "metadata": {},
   "outputs": [
    {
     "name": "stdout",
     "output_type": "stream",
     "text": [
      "The mean temperature for the past 3 days is 31.666666666666668 degrees F.\n",
      "The mean temperature for the past 6 days is 30.833333333333332 degrees F.\n"
     ]
    }
   ],
   "source": [
    "def meanTemp(*temps):\n",
    "    days = len(temps)\n",
    "    mean = sum(temps) / days\n",
    "    print(f\"The mean temperature for the past {days} days is {mean} degrees F.\")\n",
    "    \n",
    "meanTemp(29,32,34)\n",
    "meanTemp(30,32,12,45,32,34)"
   ]
  }
 ],
 "metadata": {
  "kernelspec": {
   "display_name": "Python 3",
   "language": "python",
   "name": "python3"
  },
  "language_info": {
   "codemirror_mode": {
    "name": "ipython",
    "version": 3
   },
   "file_extension": ".py",
   "mimetype": "text/x-python",
   "name": "python",
   "nbconvert_exporter": "python",
   "pygments_lexer": "ipython3",
   "version": "3.8.8"
  }
 },
 "nbformat": 4,
 "nbformat_minor": 5
}
